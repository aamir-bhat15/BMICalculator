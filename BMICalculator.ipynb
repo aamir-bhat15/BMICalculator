{
 "cells": [
  {
   "cell_type": "code",
   "execution_count": 24,
   "id": "540791ce-78bf-462d-9d4c-d0368b134fbc",
   "metadata": {},
   "outputs": [
    {
     "name": "stdin",
     "output_type": "stream",
     "text": [
      "Enter the your weight in kg 72\n"
     ]
    }
   ],
   "source": [
    "weight = int(input(\"Enter the your weight in kg\"))"
   ]
  },
  {
   "cell_type": "code",
   "execution_count": 25,
   "id": "63a824f4-9dab-40cc-9a49-fd0695756a80",
   "metadata": {},
   "outputs": [
    {
     "name": "stdin",
     "output_type": "stream",
     "text": [
      "Enter the your height in inches 66\n"
     ]
    }
   ],
   "source": [
    "height1 = int(input(\"Enter the your height in inches\"))"
   ]
  },
  {
   "cell_type": "code",
   "execution_count": 26,
   "id": "13beb93a-0260-47ec-87f1-ba649e2c6547",
   "metadata": {},
   "outputs": [],
   "source": [
    "heightinmetres=0.0254*height1\n"
   ]
  },
  {
   "cell_type": "code",
   "execution_count": 27,
   "id": "75a032c1-830b-4da0-ba7e-883d9bb270a0",
   "metadata": {},
   "outputs": [
    {
     "name": "stdout",
     "output_type": "stream",
     "text": [
      "25.619885950515705\n"
     ]
    }
   ],
   "source": [
    "BMI = weight / (heightinmetres*heightinmetres)\n",
    "print(BMI)\n"
   ]
  },
  {
   "cell_type": "markdown",
   "id": "05d49060-779b-4816-ab38-5793ac1b8bda",
   "metadata": {},
   "source": [
    "BMI\tStatus\n",
    "≤ 18.4\tUnderweight\n",
    "18.5 - 24.9\tNormal\n",
    "25.0 - 39.9\tOverweight\n",
    "≥ 40.0\tObese"
   ]
  },
  {
   "cell_type": "code",
   "execution_count": 30,
   "id": "09e94640-b048-47af-83e3-bc002756e3af",
   "metadata": {},
   "outputs": [
    {
     "name": "stdout",
     "output_type": "stream",
     "text": [
      "You're Overweight\n"
     ]
    }
   ],
   "source": [
    "if BMI>0:\n",
    "    if BMI <= 18.4:\n",
    "        print(\"You're Underweight\")\n",
    "    elif BMI <=24.9:\n",
    "        print(\"You're Normal\")\n",
    "    elif BMI <=39.9:\n",
    "        print(\"You're Overweight\")\n",
    "    else:\n",
    "        print(\"You're Obese\")\n",
    "else:\n",
    "    print(\"Please enter weight and height correctly as BMI cannot be negative\")"
   ]
  },
  {
   "cell_type": "code",
   "execution_count": null,
   "id": "07b3c331-fde7-4aec-bb66-ce0c328db039",
   "metadata": {},
   "outputs": [],
   "source": []
  }
 ],
 "metadata": {
  "kernelspec": {
   "display_name": "Python 3 (ipykernel)",
   "language": "python",
   "name": "python3"
  },
  "language_info": {
   "codemirror_mode": {
    "name": "ipython",
    "version": 3
   },
   "file_extension": ".py",
   "mimetype": "text/x-python",
   "name": "python",
   "nbconvert_exporter": "python",
   "pygments_lexer": "ipython3",
   "version": "3.10.8"
  }
 },
 "nbformat": 4,
 "nbformat_minor": 5
}
