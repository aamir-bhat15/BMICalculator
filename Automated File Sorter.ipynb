{
 "cells": [
  {
   "cell_type": "code",
   "execution_count": null,
   "id": "40cacccd-e680-4ff1-b553-bea8e45718e7",
   "metadata": {},
   "outputs": [],
   "source": [
    "import os, shutil"
   ]
  },
  {
   "cell_type": "code",
   "execution_count": null,
   "id": "db02cc0d-c4ed-489b-b1a1-dc42b72b056a",
   "metadata": {},
   "outputs": [],
   "source": [
    "path = r\"C:/DataAnalysts/Certificates/\""
   ]
  },
  {
   "cell_type": "code",
   "execution_count": null,
   "id": "7c659c83-3d12-4c1e-827b-76c21bed31d9",
   "metadata": {},
   "outputs": [],
   "source": [
    "file_name = os.listdir(path)"
   ]
  },
  {
   "cell_type": "code",
   "execution_count": null,
   "id": "d1502168-083c-43f1-bbd0-1ce8d868710e",
   "metadata": {},
   "outputs": [],
   "source": [
    "folder_name=['csv files','text files','image files','pdf files']\n",
    "for loop in range(len(folder_name)):\n",
    "    if not os.path.exists(path + folder_name[loop]):\n",
    "        os.makedirs(path + folder_name[loop])"
   ]
  },
  {
   "cell_type": "code",
   "execution_count": null,
   "id": "b6dd950b-950c-4d8d-b6f8-6fa081ba5a20",
   "metadata": {},
   "outputs": [],
   "source": [
    "for file in file_name:\n",
    "    if \".csv\" in file and not os.path.exists(path+ \"csv files/\" + file):\n",
    "        shutil.move(path + file, path+ \"csv files/\" + file)\n",
    "    elif \".png\" in file and not os.path.exists(path+ \"image files/\" + file):\n",
    "        shutil.move(path + file, path+ \"image files/\" + file)\n",
    "    elif \".txt\" in file and not os.path.exists(path+ \"text files/\" + file):\n",
    "        shutil.move(path + file, path+ \"text files/\" + file)\n",
    "    elif \".pdf\" in file and not os.path.exists(path+ \"pdf files/\" + file):\n",
    "        shutil.move(path + file, path+ \"pdf files/\" + file)\n",
    "    else:\n",
    "        print(\"This type of files are not handled by creating seperate folders.\")"
   ]
  },
  {
   "cell_type": "code",
   "execution_count": null,
   "id": "e25b7cb0-7356-48dc-8e7a-68da854713cc",
   "metadata": {},
   "outputs": [],
   "source": []
  }
 ],
 "metadata": {
  "kernelspec": {
   "display_name": "Python 3 (ipykernel)",
   "language": "python",
   "name": "python3"
  },
  "language_info": {
   "codemirror_mode": {
    "name": "ipython",
    "version": 3
   },
   "file_extension": ".py",
   "mimetype": "text/x-python",
   "name": "python",
   "nbconvert_exporter": "python",
   "pygments_lexer": "ipython3",
   "version": "3.10.8"
  }
 },
 "nbformat": 4,
 "nbformat_minor": 5
}
